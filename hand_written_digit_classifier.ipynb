{
  "cells": [
    {
      "cell_type": "markdown",
      "metadata": {
        "id": "L2jAI_qo5z2k"
      },
      "source": [
        "In this we build a classfier using deep learning techniques from scratch. In this we have used crossentropy loss to prevent learning slowdown and also used a better weight initialization technique to avoid learning slowdown."
      ]
    },
    {
      "cell_type": "code",
      "execution_count": 1,
      "metadata": {
        "colab": {
          "base_uri": "https://localhost:8080/"
        },
        "id": "VEvIssQfVhaU",
        "outputId": "2c3733ea-e323-43f9-b5df-2c0d47e19f82"
      },
      "outputs": [
        {
          "output_type": "stream",
          "name": "stdout",
          "text": [
            "Mounted at /drive\n"
          ]
        }
      ],
      "source": [
        "from google.colab import drive\n",
        "drive.mount('/drive',force_remount=True)"
      ]
    },
    {
      "cell_type": "code",
      "execution_count": 2,
      "metadata": {
        "id": "8J1oAX4D4bAY"
      },
      "outputs": [],
      "source": [
        "import json\n",
        "import random\n",
        "import numpy as np\n",
        "import sys"
      ]
    },
    {
      "cell_type": "code",
      "execution_count": 3,
      "metadata": {
        "id": "bXWCrmva68Ut"
      },
      "outputs": [],
      "source": [
        "def sigmoid(z):\n",
        "  return 1/(1+np.exp(-z))\n",
        "def sigmoid_prime(z):\n",
        "  return sigmoid(z)*(1-sigmoid(z))\n",
        "def vectorized_result(j):\n",
        "  e = np.zeros((10, 1))\n",
        "  e[j] = 1.0\n",
        "  return e"
      ]
    },
    {
      "cell_type": "code",
      "execution_count": 4,
      "metadata": {
        "id": "juN5S3yN5woU"
      },
      "outputs": [],
      "source": [
        "class QuadraticCost(object):\n",
        "  def fn(a,y):\n",
        "    return (0.5)*(a-y)**(2)\n",
        "  def delta(z,a,y):\n",
        "    return (a-y)*sigmoid_prime(z)\n",
        "class CrossEntropyCost(object):\n",
        "  def fn(a,y):\n",
        "    return np.sum(np.nan_to_num(-y*np.log(a)-(1-y)*np.log(1-a)))\n",
        "  def delta(z,a,y):\n",
        "    return a-y"
      ]
    },
    {
      "cell_type": "code",
      "execution_count": 5,
      "metadata": {
        "id": "CARTGLjk7wsg"
      },
      "outputs": [],
      "source": [
        "class Network2(object):\n",
        "  def __init__(self, sizes,cost=CrossEntropyCost):\n",
        "    self.num_layers=len(sizes)\n",
        "    self.sizes=sizes\n",
        "    self.cost=cost\n",
        "    self.default_weight_initilizer()\n",
        "\n",
        "  def default_weight_initilizer(self):\n",
        "    self.biases=[np.random.randn(y,1) for y in self.sizes[1:]]\n",
        "    self.weights=[np.random.randn(y,x)/np.sqrt(x) for x,y in zip(self.sizes[:-1], self.sizes[1:])]\n",
        "\n",
        "  def large_weight_initilizer(self):\n",
        "    self.biases=[np.random.randn(y,1) for y in self.sizes[1:]]\n",
        "    self.weights=[np.random.randn(y,x) for x,y in zip(self.sizes[:-1], self.sizes[1:])]\n",
        "  \n",
        "  def feedforward(self,a):\n",
        "    for w,b in zip(self.weights, self.biases):\n",
        "      a=sigmoid(np.dot(w,a)+b)\n",
        "    return a\n",
        "  \n",
        "  def SGD(self,training_data,n_epoch_strategy,mini_batch_size,eta,lamda=0.0,evaluation_data=None,monitor_evaluation_cost=False,monitor_evaluation_accuracy=False\n",
        "          ,monitor_training_cost=False,monitor_training_accuracy=False):\n",
        "    if evaluation_data:\n",
        "      n_data=len(evaluation_data)\n",
        "    n=len(training_data)\n",
        "    evaluation_cost=[]\n",
        "    training_cost=[]\n",
        "    evaluation_accuracy=[]\n",
        "    training_accuracy=[]\n",
        "    epoch=0\n",
        "    while epoch < n_epoch_strategy+1 :\n",
        "      random.shuffle(training_data)\n",
        "      mini_batches=[training_data[k:k+mini_batch_size] for k in  range(0,n,mini_batch_size)]\n",
        "      for mini_batch in mini_batches:\n",
        "        self.update_mini_batch(mini_batch,eta,lamda,n)\n",
        "      print(f\"\\nEpoch {epoch} training complete.\")\n",
        "      if monitor_training_cost:\n",
        "        cost=self.total_cost(training_data,lamda)\n",
        "        training_cost.append(cost)\n",
        "        print(f\"cost on training data: {cost}\")\n",
        "\n",
        "      if monitor_training_accuracy:\n",
        "        accuracy=self.accuracy(training_data,convert=True)\n",
        "        training_accuracy.append(accuracy)\n",
        "        print(f\"Accuracy on training data: {accuracy}/{n}\")\n",
        "\n",
        "      if monitor_evaluation_cost:\n",
        "        cost=self.total_cost(evaluation_data,lamda,convert=True)\n",
        "        evaluation_cost.append(cost)\n",
        "        print(f\"cost on evaluation data: {cost}\")\n",
        "\n",
        "      if monitor_evaluation_accuracy:\n",
        "        accuracy=self.accuracy(evaluation_data)\n",
        "        evaluation_accuracy.append(accuracy)\n",
        "        print(f\"Accuracy on evaluation data: {accuracy}/{n_data}\")\n",
        "      epoch=epoch+1\n",
        "      print()\n",
        "\n",
        "    fact=0\n",
        "    while fact<=7:\n",
        "      if np.max(evaluation_accuracy[-n_epoch_strategy:])-np.max(evaluation_accuracy[:epoch-n_epoch_strategy]) > 10.0:\n",
        "          random.shuffle(training_data)\n",
        "          mini_batches = [training_data[k:k+mini_batch_size] for k in range(0, n, mini_batch_size)]\n",
        "          for mini_batch in mini_batches:\n",
        "              self.update_mini_batch(mini_batch, eta, lamda, n)\n",
        "          print(f\"Epoch {epoch} training complete\" )\n",
        "          if monitor_training_cost:\n",
        "              cost = self.total_cost(training_data, lamda)\n",
        "              training_cost.append(cost)\n",
        "              print(f\"Cost on training data: {cost}\")\n",
        "          if monitor_training_accuracy:\n",
        "              accuracy = self.accuracy(training_data, convert=True)\n",
        "              training_accuracy.append(accuracy)\n",
        "              print(f\"Accuracy on training data: {accuracy} / {n}\")\n",
        "          if monitor_evaluation_cost:\n",
        "              cost = self.total_cost(evaluation_data, lamda, convert=True)\n",
        "              evaluation_cost.append(cost)\n",
        "              print(f\"Cost on evaluation data: {cost}\")\n",
        "          if monitor_evaluation_accuracy:\n",
        "            accuracy = self.accuracy(evaluation_data)\n",
        "            evaluation_accuracy.append(accuracy)\n",
        "            print(f\"Accuracy on evaluation data: {accuracy} / {n_data}\")\n",
        "          epoch = epoch+1\n",
        "          print()\n",
        "          \n",
        "      else:\n",
        "          fact = fact+1\n",
        "          eta = eta/2\n",
        "            \n",
        "          random.shuffle(training_data)\n",
        "          mini_batches = [training_data[k:k+mini_batch_size] for k in range(0, n, mini_batch_size)]\n",
        "          for mini_batch in mini_batches:\n",
        "              self.update_mini_batch(mini_batch, eta, lamda, n)\n",
        "          print(\"Epoch %s training complete\" % epoch)\n",
        "          if monitor_training_cost:\n",
        "              cost = self.total_cost(training_data, lamda)\n",
        "              training_cost.append(cost)\n",
        "              print(f\"Cost on training data: {cost}\")\n",
        "          if monitor_training_accuracy:\n",
        "              accuracy = self.accuracy(training_data, convert=True)\n",
        "              training_accuracy.append(accuracy)\n",
        "              print(f\"Accuracy on training data: {accuracy}/{n}\")\n",
        "          if monitor_evaluation_cost:\n",
        "              cost = self.total_cost(evaluation_data, lamda, convert=True)\n",
        "              evaluation_cost.append(cost)\n",
        "              print(f\"Cost on evaluation data: {cost}\")\n",
        "          if monitor_evaluation_accuracy:\n",
        "              accuracy = self.accuracy(evaluation_data)\n",
        "              evaluation_accuracy.append(accuracy)\n",
        "              print(f\"Accuracy on evaluation data: {accuracy} / {n_data}\")\n",
        "          epoch = epoch+1\n",
        "          print()\n",
        "    return evaluation_cost,evaluation_accuracy,training_cost,training_accuracy\n",
        "\n",
        "  def update_mini_batch(self,mini_batch,eta,lamda,n):\n",
        "      nabla_b = [np.zeros(b.shape) for b in self.biases]\n",
        "      nabla_w = [np.zeros(w.shape) for w in self.weights]\n",
        "      for x, y in mini_batch:\n",
        "          delta_nabla_b, delta_nabla_w = self.backprop(x, y)\n",
        "          nabla_b = [nb+dnb for nb, dnb in zip(nabla_b, delta_nabla_b)]\n",
        "          nabla_w = [nw+dnw for nw, dnw in zip(nabla_w, delta_nabla_w)]\n",
        "      self.weights = [(1-eta*(lamda/n))*w-(eta/len(mini_batch))*nw for w, nw in zip(self.weights, nabla_w)]\n",
        "      self.biases = [b-(eta/len(mini_batch))*nb for b, nb in zip(self.biases, nabla_b)]\n",
        "\n",
        "  def backprop(self,x,y):\n",
        "    nabla_b=[np.zeros(b.shape) for b in self.biases]\n",
        "    nabla_w=[np.zeros(w.shape) for w in self.weights]\n",
        "    activation=x\n",
        "    activations=[x]\n",
        "    zs=[]\n",
        "    for b, w in zip(self.biases, self.weights):\n",
        "      z=np.dot(w,activation)+b\n",
        "      zs.append(z)\n",
        "      activation=sigmoid(z)\n",
        "      activations.append(activation)\n",
        "    delta=self.cost.delta(zs[-1],activations[-1],y)\n",
        "    nabla_b[-1]=delta\n",
        "    nabla_w[-1]=np.dot(delta,activations[-2].transpose())\n",
        "    for l in range(2,self.num_layers):\n",
        "      z=zs[-l]\n",
        "      sp=sigmoid_prime(z)\n",
        "      delta=np.dot(self.weights[-l+1].transpose(),delta)*sp\n",
        "      nabla_b[-l]=delta\n",
        "      nabla_w[-l]=np.dot(delta,activations[-l-1].transpose())\n",
        "    return (nabla_b,nabla_w)\n",
        "\n",
        "  def accuracy(self,data,convert=False):\n",
        "    if convert:\n",
        "      results=[(np.argmax(self.feedforward(x)),np.argmax(y)) for x, y in data]\n",
        "    else:\n",
        "      results=[(np.argmax(self.feedforward(x)),y) for x,y in data]\n",
        "    return sum((x==y) for x,y in results)\n",
        "  \n",
        "  def total_cost(self, data, lmbda, convert=False):\n",
        "    cost = 0.0\n",
        "    for x, y in data:\n",
        "      a = self.feedforward(x)\n",
        "      if convert: y = vectorized_result(y)\n",
        "      cost += self.cost.fn(a, y)/len(data)\n",
        "    cost += 0.5*(lmbda/len(data))*sum(\n",
        "    np.linalg.norm(w)**2 for w in self.weights)\n",
        "    return cost\n",
        "\n",
        "\n",
        "            \n",
        " "
      ]
    },
    {
      "cell_type": "code",
      "execution_count": 6,
      "metadata": {
        "id": "oyCzYzsKIpL7"
      },
      "outputs": [],
      "source": [
        "import pickle\n",
        "import gzip\n",
        "def load_data():\n",
        "    f = gzip.open(r'/drive/My Drive/MNIST data/mnist.pkl.gz', 'rb')\n",
        "    training_data, validation_data, test_data = pickle.load(f, encoding=\"latin1\")\n",
        "    #file_content=f.read()\n",
        "    #print(file_content)\n",
        "    f.close()\n",
        "    return (training_data, validation_data, test_data)"
      ]
    },
    {
      "cell_type": "code",
      "execution_count": 7,
      "metadata": {
        "id": "tTGwIxR_Ixje"
      },
      "outputs": [],
      "source": [
        "def load_data_wrapper():\n",
        "    tr_d, va_d, te_d = load_data()\n",
        "    training_inputs = [np.reshape(x, (784, 1)) for x in tr_d[0]]\n",
        "    training_results = [vectorized_result(y) for y in tr_d[1]]\n",
        "    training_data = zip(training_inputs, training_results)\n",
        "    validation_inputs = [np.reshape(x, (784, 1)) for x in va_d[0]]\n",
        "    validation_data = zip(validation_inputs, va_d[1])\n",
        "    test_inputs = [np.reshape(x, (784, 1)) for x in te_d[0]]\n",
        "    test_data = zip(test_inputs, te_d[1])\n",
        "    return (training_data, validation_data, test_data)"
      ]
    },
    {
      "cell_type": "code",
      "execution_count": 8,
      "metadata": {
        "id": "H3bnDR6w0WG9"
      },
      "outputs": [],
      "source": [
        "training_data,validation_data,test_data=load_data_wrapper()"
      ]
    },
    {
      "cell_type": "code",
      "execution_count": 9,
      "metadata": {
        "id": "SLWsLFRf0BZO"
      },
      "outputs": [],
      "source": [
        "training_data,validation_data,test_data=list(training_data),list(validation_data),list(test_data)"
      ]
    },
    {
      "cell_type": "markdown",
      "metadata": {
        "id": "wk94eXKZw6Yq"
      },
      "source": [
        "#**With Sigmoid+Cross Entropy loss**"
      ]
    },
    {
      "cell_type": "markdown",
      "metadata": {
        "id": "ZY2z1YGqT62s"
      },
      "source": [
        "# For 1 hidden layer with 30 neurons\n"
      ]
    },
    {
      "cell_type": "code",
      "execution_count": 10,
      "metadata": {
        "id": "YP7rXWsiJ57S"
      },
      "outputs": [],
      "source": [
        "cost1=CrossEntropyCost"
      ]
    },
    {
      "cell_type": "code",
      "execution_count": 11,
      "metadata": {
        "id": "O4gpYXkqI4kV"
      },
      "outputs": [],
      "source": [
        "net=Network2([784,30,10],cost=cost1)"
      ]
    },
    {
      "cell_type": "code",
      "execution_count": 12,
      "metadata": {
        "colab": {
          "base_uri": "https://localhost:8080/"
        },
        "id": "ZJQbZFP9J-RS",
        "outputId": "6681f486-0bb0-4a4f-c226-cd3b58055704"
      },
      "outputs": [
        {
          "output_type": "stream",
          "name": "stdout",
          "text": [
            "\n",
            "Epoch 0 training complete.\n",
            "cost on training data: 0.5052034263807588\n",
            "Accuracy on training data: 46758/50000\n",
            "cost on evaluation data: 0.8117457259977521\n",
            "Accuracy on evaluation data: 9367/10000\n",
            "\n",
            "\n",
            "Epoch 1 training complete.\n",
            "cost on training data: 0.438028235064204\n",
            "Accuracy on training data: 47611/50000\n",
            "cost on evaluation data: 0.8482799614857326\n",
            "Accuracy on evaluation data: 9525/10000\n",
            "\n",
            "\n",
            "Epoch 2 training complete.\n",
            "cost on training data: 0.42055953922155037\n",
            "Accuracy on training data: 47865/50000\n",
            "cost on evaluation data: 0.8821124411408757\n",
            "Accuracy on evaluation data: 9561/10000\n",
            "\n",
            "\n",
            "Epoch 3 training complete.\n",
            "cost on training data: 0.4013166181956396\n",
            "Accuracy on training data: 48028/50000\n",
            "cost on evaluation data: 0.9011425996682809\n",
            "Accuracy on evaluation data: 9564/10000\n",
            "\n",
            "\n",
            "Epoch 4 training complete.\n",
            "cost on training data: 0.4022244250170884\n",
            "Accuracy on training data: 48059/50000\n",
            "cost on evaluation data: 0.9233306787729272\n",
            "Accuracy on evaluation data: 9584/10000\n",
            "\n",
            "\n",
            "Epoch 5 training complete.\n",
            "cost on training data: 0.4130917455436207\n",
            "Accuracy on training data: 48052/50000\n",
            "cost on evaluation data: 0.9393164736842525\n",
            "Accuracy on evaluation data: 9569/10000\n",
            "\n",
            "Epoch 6 training complete\n",
            "Cost on training data: 0.3944402343810375\n",
            "Accuracy on training data: 48145 / 50000\n",
            "Cost on evaluation data: 0.9281311986718415\n",
            "Accuracy on evaluation data: 9616 / 10000\n",
            "\n",
            "Epoch 7 training complete\n",
            "Cost on training data: 0.4088131730571092\n",
            "Accuracy on training data: 48100 / 50000\n",
            "Cost on evaluation data: 0.9631898099932019\n",
            "Accuracy on evaluation data: 9552 / 10000\n",
            "\n",
            "Epoch 8 training complete\n",
            "Cost on training data: 0.4048983407771345\n",
            "Accuracy on training data: 48179 / 50000\n",
            "Cost on evaluation data: 0.9536912235913352\n",
            "Accuracy on evaluation data: 9588 / 10000\n",
            "\n",
            "Epoch 9 training complete\n",
            "Cost on training data: 0.37626296991255925\n",
            "Accuracy on training data: 48323 / 50000\n",
            "Cost on evaluation data: 0.9391753387392943\n",
            "Accuracy on evaluation data: 9604 / 10000\n",
            "\n",
            "Epoch 10 training complete\n",
            "Cost on training data: 0.39004292122953954\n",
            "Accuracy on training data: 48237 / 50000\n",
            "Cost on evaluation data: 0.961068042895459\n",
            "Accuracy on evaluation data: 9580 / 10000\n",
            "\n",
            "Epoch 11 training complete\n",
            "Cost on training data: 0.3960343762230316\n",
            "Accuracy on training data: 48227 / 50000\n",
            "Cost on evaluation data: 0.95482444545296\n",
            "Accuracy on evaluation data: 9587 / 10000\n",
            "\n",
            "Epoch 12 training complete\n",
            "Cost on training data: 0.3353257492371584\n",
            "Accuracy on training data: 48712/50000\n",
            "Cost on evaluation data: 0.8779186907672135\n",
            "Accuracy on evaluation data: 9661 / 10000\n",
            "\n",
            "Epoch 13 training complete\n",
            "Cost on training data: 0.3334575333793458\n",
            "Accuracy on training data: 48664 / 50000\n",
            "Cost on evaluation data: 0.867610591389534\n",
            "Accuracy on evaluation data: 9668 / 10000\n",
            "\n",
            "Epoch 14 training complete\n",
            "Cost on training data: 0.33823955414100276\n",
            "Accuracy on training data: 48625 / 50000\n",
            "Cost on evaluation data: 0.8625229363772859\n",
            "Accuracy on evaluation data: 9655 / 10000\n",
            "\n",
            "Epoch 15 training complete\n",
            "Cost on training data: 0.3464581249137825\n",
            "Accuracy on training data: 48537 / 50000\n",
            "Cost on evaluation data: 0.8763893243117247\n",
            "Accuracy on evaluation data: 9628 / 10000\n",
            "\n",
            "Epoch 16 training complete\n",
            "Cost on training data: 0.34222938164655126\n",
            "Accuracy on training data: 48567 / 50000\n",
            "Cost on evaluation data: 0.8707820410588037\n",
            "Accuracy on evaluation data: 9629 / 10000\n",
            "\n",
            "Epoch 17 training complete\n",
            "Cost on training data: 0.3372475527185044\n",
            "Accuracy on training data: 48588 / 50000\n",
            "Cost on evaluation data: 0.8651265385235474\n",
            "Accuracy on evaluation data: 9640 / 10000\n",
            "\n",
            "Epoch 18 training complete\n",
            "Cost on training data: 0.3107989331262358\n",
            "Accuracy on training data: 48888/50000\n",
            "Cost on evaluation data: 0.8353254420356468\n",
            "Accuracy on evaluation data: 9675 / 10000\n",
            "\n",
            "Epoch 19 training complete\n",
            "Cost on training data: 0.30831992022752613\n",
            "Accuracy on training data: 48874/50000\n",
            "Cost on evaluation data: 0.8309929178846911\n",
            "Accuracy on evaluation data: 9679 / 10000\n",
            "\n",
            "Epoch 20 training complete\n",
            "Cost on training data: 0.2984606483192721\n",
            "Accuracy on training data: 48975 / 50000\n",
            "Cost on evaluation data: 0.8195432715388316\n",
            "Accuracy on evaluation data: 9692 / 10000\n",
            "\n",
            "Epoch 21 training complete\n",
            "Cost on training data: 0.298321506666301\n",
            "Accuracy on training data: 48983 / 50000\n",
            "Cost on evaluation data: 0.8155956291268154\n",
            "Accuracy on evaluation data: 9696 / 10000\n",
            "\n",
            "Epoch 22 training complete\n",
            "Cost on training data: 0.2979882247323757\n",
            "Accuracy on training data: 48960 / 50000\n",
            "Cost on evaluation data: 0.8157788683035496\n",
            "Accuracy on evaluation data: 9694 / 10000\n",
            "\n",
            "Epoch 23 training complete\n",
            "Cost on training data: 0.29986125438312805\n",
            "Accuracy on training data: 48938 / 50000\n",
            "Cost on evaluation data: 0.8187513812225522\n",
            "Accuracy on evaluation data: 9680 / 10000\n",
            "\n",
            "Epoch 24 training complete\n",
            "Cost on training data: 0.2961626423884024\n",
            "Accuracy on training data: 48991 / 50000\n",
            "Cost on evaluation data: 0.8108172210640867\n",
            "Accuracy on evaluation data: 9689 / 10000\n",
            "\n",
            "Epoch 25 training complete\n",
            "Cost on training data: 0.29414676052965205\n",
            "Accuracy on training data: 48985 / 50000\n",
            "Cost on evaluation data: 0.8075021035030072\n",
            "Accuracy on evaluation data: 9689 / 10000\n",
            "\n",
            "Epoch 26 training complete\n",
            "Cost on training data: 0.2914521375055599\n",
            "Accuracy on training data: 49042/50000\n",
            "Cost on evaluation data: 0.8071724172159125\n",
            "Accuracy on evaluation data: 9700 / 10000\n",
            "\n",
            "Epoch 27 training complete\n",
            "Cost on training data: 0.28961585117982835\n",
            "Accuracy on training data: 49040/50000\n",
            "Cost on evaluation data: 0.8042290560842971\n",
            "Accuracy on evaluation data: 9697 / 10000\n",
            "\n",
            "Epoch 28 training complete\n",
            "Cost on training data: 0.28884080674183427\n",
            "Accuracy on training data: 49048/50000\n",
            "Cost on evaluation data: 0.8035592236572804\n",
            "Accuracy on evaluation data: 9701 / 10000\n",
            "\n",
            "Epoch 29 training complete\n",
            "Cost on training data: 0.2883614210932963\n",
            "Accuracy on training data: 49048/50000\n",
            "Cost on evaluation data: 0.8028755607407607\n",
            "Accuracy on evaluation data: 9695 / 10000\n",
            "\n",
            "Epoch 30 training complete\n",
            "Cost on training data: 0.288281049346554\n",
            "Accuracy on training data: 49051/50000\n",
            "Cost on evaluation data: 0.8028492287276998\n",
            "Accuracy on evaluation data: 9690 / 10000\n",
            "\n"
          ]
        }
      ],
      "source": [
        "evaluation_cost,evaluation_accuracy,training_cost,training_accuracy=net.SGD(training_data,5,10,0.5,lamda=5.0,evaluation_data=validation_data,monitor_training_accuracy=True,monitor_evaluation_accuracy=True,monitor_training_cost=True,monitor_evaluation_cost=True)"
      ]
    },
    {
      "cell_type": "code",
      "execution_count": 13,
      "metadata": {
        "id": "dX6g5A1pKJrz"
      },
      "outputs": [],
      "source": [
        "import matplotlib.pyplot as plt\n"
      ]
    },
    {
      "cell_type": "code",
      "execution_count": 14,
      "metadata": {
        "colab": {
          "base_uri": "https://localhost:8080/",
          "height": 279
        },
        "id": "hMmRhD4DPHI0",
        "outputId": "df22792d-d698-4820-f2c2-3395bac4f237"
      },
      "outputs": [
        {
          "output_type": "display_data",
          "data": {
            "text/plain": [
              "<Figure size 432x288 with 1 Axes>"
            ],
            "image/png": "[encoded data removed]"
          },
          "metadata": {
            "needs_background": "light"
          }
        }
      ],
      "source": [
        "plt.grid()\n",
        "plt.plot([a/50000 for a in training_accuracy])\n",
        "plt.plot([e/10000 for e in evaluation_accuracy])\n",
        "plt.xlabel(\"Epochs\")\n",
        "plt.ylabel('accuracy')\n",
        "plt.legend(['training_accuracy','validation_accuracy']);"
      ]
    },
    {
      "cell_type": "code",
      "execution_count": 15,
      "metadata": {
        "colab": {
          "base_uri": "https://localhost:8080/",
          "height": 296
        },
        "id": "ydYkTLkGPN5u",
        "outputId": "b371a487-c805-4e38-94cc-dd31cfc6296f"
      },
      "outputs": [
        {
          "output_type": "execute_result",
          "data": {
            "text/plain": [
              "<matplotlib.legend.Legend at 0x7f459d22c8d0>"
            ]
          },
          "metadata": {},
          "execution_count": 15
        },
        {
          "output_type": "display_data",
          "data": {
            "text/plain": [
              "<Figure size 432x288 with 1 Axes>"
            ],
            "image/png": "[encoded data removed]"
          },
          "metadata": {
            "needs_background": "light"
          }
        }
      ],
      "source": [
        "plt.grid()\n",
        "plt.plot(training_cost)\n",
        "plt.plot(evaluation_cost)\n",
        "plt.xlabel(\"Epochs\")\n",
        "plt.ylabel('Cost')\n",
        "plt.legend(['training_cost','evaluation_cost'])"
      ]
    },
    {
      "cell_type": "code",
      "execution_count": 16,
      "metadata": {
        "colab": {
          "base_uri": "https://localhost:8080/"
        },
        "id": "ZhUWswBgWUUW",
        "outputId": "165ff44b-b79b-4b21-e807-82048da43832"
      },
      "outputs": [
        {
          "output_type": "stream",
          "name": "stdout",
          "text": [
            "training_accuracy :98.102 %\n",
            "validation_accuracy: 96.89999999999999 %\n",
            "Test accuracy: 96.83 %\n"
          ]
        }
      ],
      "source": [
        "print(f\"training_accuracy :{(training_accuracy[-1]/50000)*100} %\\nvalidation_accuracy: {(evaluation_accuracy[-1]/10000)*100} %\\nTest accuracy: {(net.accuracy(test_data)/10000)*100} %\")"
      ]
    },
    {
      "cell_type": "markdown",
      "metadata": {
        "id": "8KTgrVvFUEr8"
      },
      "source": [
        "#For 2 hidden layers "
      ]
    },
    {
      "cell_type": "code",
      "execution_count": 17,
      "metadata": {
        "id": "CRg0Rz63UNHc"
      },
      "outputs": [],
      "source": [
        "net2=Network2([784,100,30,10],cost=cost1)"
      ]
    },
    {
      "cell_type": "code",
      "execution_count": 18,
      "metadata": {
        "colab": {
          "base_uri": "https://localhost:8080/"
        },
        "id": "qbkpAkKXUNHd",
        "outputId": "98c0c5fa-956d-4a0b-c798-5cc9eec55703"
      },
      "outputs": [
        {
          "output_type": "stream",
          "name": "stdout",
          "text": [
            "\n",
            "Epoch 0 training complete.\n",
            "cost on training data: 0.3688325321172715\n",
            "Accuracy on training data: 47939/50000\n",
            "cost on evaluation data: 0.7884635183642819\n",
            "Accuracy on evaluation data: 9592/10000\n",
            "\n",
            "\n",
            "Epoch 1 training complete.\n",
            "cost on training data: 0.35283556042710684\n",
            "Accuracy on training data: 48300/50000\n",
            "cost on evaluation data: 0.9090538562024694\n",
            "Accuracy on evaluation data: 9617/10000\n",
            "\n",
            "\n",
            "Epoch 2 training complete.\n",
            "cost on training data: 0.3018795725151432\n",
            "Accuracy on training data: 48904/50000\n",
            "cost on evaluation data: 0.9103370252776936\n",
            "Accuracy on evaluation data: 9722/10000\n",
            "\n",
            "\n",
            "Epoch 3 training complete.\n",
            "cost on training data: 0.2862032194456722\n",
            "Accuracy on training data: 49042/50000\n",
            "cost on evaluation data: 0.9381875790055201\n",
            "Accuracy on evaluation data: 9748/10000\n",
            "\n",
            "\n",
            "Epoch 4 training complete.\n",
            "cost on training data: 0.28006151871358764\n",
            "Accuracy on training data: 49154/50000\n",
            "cost on evaluation data: 0.9497686364075425\n",
            "Accuracy on evaluation data: 9745/10000\n",
            "\n",
            "\n",
            "Epoch 5 training complete.\n",
            "cost on training data: 0.2877783103366129\n",
            "Accuracy on training data: 49084/50000\n",
            "cost on evaluation data: 0.9789200018727141\n",
            "Accuracy on evaluation data: 9699/10000\n",
            "\n",
            "Epoch 6 training complete\n",
            "Cost on training data: 0.2932217400778403\n",
            "Accuracy on training data: 49067 / 50000\n",
            "Cost on evaluation data: 0.9727275883680908\n",
            "Accuracy on evaluation data: 9740 / 10000\n",
            "\n",
            "Epoch 7 training complete\n",
            "Cost on training data: 0.32228588953204174\n",
            "Accuracy on training data: 48722 / 50000\n",
            "Cost on evaluation data: 1.016628877749088\n",
            "Accuracy on evaluation data: 9658 / 10000\n",
            "\n",
            "Epoch 8 training complete\n",
            "Cost on training data: 0.2657971236735255\n",
            "Accuracy on training data: 49311 / 50000\n",
            "Cost on evaluation data: 0.975084376161154\n",
            "Accuracy on evaluation data: 9744 / 10000\n",
            "\n",
            "Epoch 9 training complete\n",
            "Cost on training data: 0.22185791542269723\n",
            "Accuracy on training data: 49635/50000\n",
            "Cost on evaluation data: 0.8925963647839591\n",
            "Accuracy on evaluation data: 9802 / 10000\n",
            "\n",
            "Epoch 10 training complete\n",
            "Cost on training data: 0.212533421987546\n",
            "Accuracy on training data: 49662 / 50000\n",
            "Cost on evaluation data: 0.8612723522406089\n",
            "Accuracy on evaluation data: 9792 / 10000\n",
            "\n",
            "Epoch 11 training complete\n",
            "Cost on training data: 0.21138260418904323\n",
            "Accuracy on training data: 49653 / 50000\n",
            "Cost on evaluation data: 0.8535439982162962\n",
            "Accuracy on evaluation data: 9773 / 10000\n",
            "\n",
            "Epoch 12 training complete\n",
            "Cost on training data: 0.2128826620117581\n",
            "Accuracy on training data: 49598 / 50000\n",
            "Cost on evaluation data: 0.8521912452024439\n",
            "Accuracy on evaluation data: 9777 / 10000\n",
            "\n",
            "Epoch 13 training complete\n",
            "Cost on training data: 0.20799664833973525\n",
            "Accuracy on training data: 49634 / 50000\n",
            "Cost on evaluation data: 0.8357919672451618\n",
            "Accuracy on evaluation data: 9799 / 10000\n",
            "\n",
            "Epoch 14 training complete\n",
            "Cost on training data: 0.20561752837102443\n",
            "Accuracy on training data: 49730 / 50000\n",
            "Cost on evaluation data: 0.8364636735101564\n",
            "Accuracy on evaluation data: 9783 / 10000\n",
            "\n",
            "Epoch 15 training complete\n",
            "Cost on training data: 0.18732657948539744\n",
            "Accuracy on training data: 49840/50000\n",
            "Cost on evaluation data: 0.8111683735539736\n",
            "Accuracy on evaluation data: 9810 / 10000\n",
            "\n",
            "Epoch 16 training complete\n",
            "Cost on training data: 0.18069744368522758\n",
            "Accuracy on training data: 49884/50000\n",
            "Cost on evaluation data: 0.7941345701987281\n",
            "Accuracy on evaluation data: 9827 / 10000\n",
            "\n",
            "Epoch 17 training complete\n",
            "Cost on training data: 0.17899542503036983\n",
            "Accuracy on training data: 49888 / 50000\n",
            "Cost on evaluation data: 0.7887199179256356\n",
            "Accuracy on evaluation data: 9817 / 10000\n",
            "\n",
            "Epoch 18 training complete\n",
            "Cost on training data: 0.1769417323780827\n",
            "Accuracy on training data: 49898 / 50000\n",
            "Cost on evaluation data: 0.7812489320726986\n",
            "Accuracy on evaluation data: 9833 / 10000\n",
            "\n",
            "Epoch 19 training complete\n",
            "Cost on training data: 0.1760380945020122\n",
            "Accuracy on training data: 49899 / 50000\n",
            "Cost on evaluation data: 0.7766048127532117\n",
            "Accuracy on evaluation data: 9820 / 10000\n",
            "\n",
            "Epoch 20 training complete\n",
            "Cost on training data: 0.1782056777076373\n",
            "Accuracy on training data: 49889 / 50000\n",
            "Cost on evaluation data: 0.775917448641281\n",
            "Accuracy on evaluation data: 9823 / 10000\n",
            "\n",
            "Epoch 21 training complete\n",
            "Cost on training data: 0.17839591076718803\n",
            "Accuracy on training data: 49894 / 50000\n",
            "Cost on evaluation data: 0.7770066186475062\n",
            "Accuracy on evaluation data: 9818 / 10000\n",
            "\n",
            "Epoch 22 training complete\n",
            "Cost on training data: 0.17282287000019086\n",
            "Accuracy on training data: 49916/50000\n",
            "Cost on evaluation data: 0.7663023420095502\n",
            "Accuracy on evaluation data: 9829 / 10000\n",
            "\n",
            "Epoch 23 training complete\n",
            "Cost on training data: 0.1715852737199479\n",
            "Accuracy on training data: 49919/50000\n",
            "Cost on evaluation data: 0.7637141982808643\n",
            "Accuracy on evaluation data: 9824 / 10000\n",
            "\n",
            "Epoch 24 training complete\n",
            "Cost on training data: 0.17132431039782467\n",
            "Accuracy on training data: 49921/50000\n",
            "Cost on evaluation data: 0.7639394589560176\n",
            "Accuracy on evaluation data: 9823 / 10000\n",
            "\n",
            "Epoch 25 training complete\n",
            "Cost on training data: 0.1711438595084794\n",
            "Accuracy on training data: 49920/50000\n",
            "Cost on evaluation data: 0.7626523592930288\n",
            "Accuracy on evaluation data: 9824 / 10000\n",
            "\n",
            "Epoch 26 training complete\n",
            "Cost on training data: 0.17106207391090128\n",
            "Accuracy on training data: 49921/50000\n",
            "Cost on evaluation data: 0.7627668037391337\n",
            "Accuracy on evaluation data: 9823 / 10000\n",
            "\n"
          ]
        }
      ],
      "source": [
        "evaluation_cost,evaluation_accuracy,training_cost,training_accuracy=net2.SGD(training_data,5,10,0.5,lamda=5.0,evaluation_data=validation_data,monitor_training_accuracy=True,monitor_evaluation_accuracy=True,monitor_training_cost=True,monitor_evaluation_cost=True)"
      ]
    },
    {
      "cell_type": "code",
      "source": [
        "print(f\"training_accuracy :{(training_accuracy[-1]/50000)*100} %\\nvalidation_accuracy: {(evaluation_accuracy[-1]/10000)*100} %\\n\")"
      ],
      "metadata": {
        "colab": {
          "base_uri": "https://localhost:8080/"
        },
        "id": "xvDTnKjTkf_l",
        "outputId": "ffe9f12b-b42f-4404-f1fe-2e8d0f9388a3"
      },
      "execution_count": 20,
      "outputs": [
        {
          "output_type": "stream",
          "name": "stdout",
          "text": [
            "training_accuracy :99.842 %\n",
            "validation_accuracy: 98.22999999999999 %\n",
            "\n"
          ]
        }
      ]
    },
    {
      "cell_type": "code",
      "source": [
        ""
      ],
      "metadata": {
        "id": "hCFebeg42BR1"
      },
      "execution_count": null,
      "outputs": []
    }
  ],
  "metadata": {
    "accelerator": "GPU",
    "colab": {
      "collapsed_sections": [],
      "name": "hand_written_digit_classifier.ipynb",
      "provenance": []
    },
    "gpuClass": "standard",
    "kernelspec": {
      "display_name": "Python 3",
      "name": "python3"
    },
    "language_info": {
      "name": "python"
    }
  },
  "nbformat": 4,
  "nbformat_minor": 0
}